{
 "cells": [
  {
   "cell_type": "code",
   "execution_count": 13,
   "id": "410c1b51",
   "metadata": {},
   "outputs": [],
   "source": [
    "# Import all modules\n",
    "import PyPDF2\n",
    "import pandas as pd\n",
    "import os\n",
    "from re import search"
   ]
  },
  {
   "cell_type": "code",
   "execution_count": 14,
   "id": "66c664d3",
   "metadata": {},
   "outputs": [],
   "source": [
    "# Returns a list of whatever is inside the directory(in local machine) \n",
    "pdf_list = os.listdir('.')\n",
    "\n",
    "# Ignore list, since I had this notebook in my local machine, stored in the same directory\n",
    "remove_list = ['.DS_Store','.ipynb_checkpoints','paycheck_analyzer.ipynb','.git','.gitignore','README.md']\n",
    "\n",
    "# Removes items in the ignore list\n",
    "pdf_list = [i for i in pdf_list if i not in remove_list]"
   ]
  },
  {
   "cell_type": "code",
   "execution_count": 15,
   "id": "7eee4600",
   "metadata": {},
   "outputs": [],
   "source": [
    "def read_paystub(stub):\n",
    "    '''Function to extract regular hours, overtime hours, check date and pay period \n",
    "       input:  Mandarin Oriental Paystub in PDF format\n",
    "       output: Python Dictionary of :\n",
    "                hours, overtime, check date and pay period worked '''\n",
    "    \n",
    "    # Read the first page of paystub\n",
    "    file = PyPDF2.PdfFileReader(stub) # feed the paycheck to PdfFileReader\n",
    "    page1 = file.getPage(0).extractText() # Needed info is found in 1st page\n",
    "\n",
    "    # Extract the check date\n",
    "    date = page1[page1.find('Basis'):page1.find(' to')].strip()  \n",
    "    date = date[11:-5]\n",
    "\n",
    "    # Extract the pay period\n",
    "    pperiod = page1[page1.find('Basis'):page1.find(' XXXX')].strip()\n",
    "    pperiod = pperiod[21:38]\n",
    "\n",
    "    # Extract the regular hours, overtime hours, vacation, sick, personal, retro \n",
    "    parsed = page1[page1.find('REGULAR'):page1.find('Total Earnings')].strip()\n",
    "\n",
    "    # Split up the resulting extracted string to a list\n",
    "    parsed_list = parsed.split(' ')\n",
    "\n",
    "    def sick_holiday_hrs(parsed_list):\n",
    "        '''A function that assigns 0 to the second item in the list, \n",
    "        if no overtime worked. Cleans up the first item in the list as regular hours.\n",
    "\n",
    "        input: list of extracted paycheck info\n",
    "        output: list of regular and overtime hours'''\n",
    "\n",
    "        parsed_list[0] = parsed_list[0][7:12]\n",
    "        parsed_list[1] = str(0)\n",
    "        parsed_list = parsed_list[0:1]\n",
    "        return parsed_list\n",
    "\n",
    "    if search(\"HOLIDAY\", parsed_list[1]):\n",
    "        sick_holiday_hrs(parsed_list)\n",
    "    elif search('SICK', parsed_list[1]):\n",
    "        sick_holiday_hrs(parsed_list)\n",
    "    elif search('VACATION', parsed_list[1]):\n",
    "        sick_holiday_hrs(parsed_list)\n",
    "    elif search('PERSONAL', parsed_list[1]):\n",
    "        sick_holiday_hrs(parsed_list)\n",
    "    elif search('RETRO', parsed_list[1]):\n",
    "        sick_holiday_hrs(parsed_list)      \n",
    "    else:\n",
    "        parsed_list[0] = parsed_list[0][7:12]\n",
    "        parsed_list[1] = parsed_list[1][8:12]\n",
    "        parsed_list = parsed_list[0:2]\n",
    "\n",
    "    # If the list contains \",\" a comma, this means that NO OT, then it will assign 0.\n",
    "    # Restricts the list into two elements only.\n",
    "    parsed_list = [ 0  if \",\" in x else x for x in parsed_list][:2] \n",
    "\n",
    "    # Convert the list to float\n",
    "    parsed_list = list(map(float,parsed_list))\n",
    "\n",
    "    # Additional check. I do not usually work 20 hours overtime, so for any reason \n",
    "    # overtime is more than 20, there must be a parsing error, \n",
    "    # then I'll reset the OT to 0\n",
    "    if parsed_list[1] > 20:\n",
    "        parsed_list[1] = 0\n",
    "\n",
    "    # Construct the dictionary of date, pay period, hours and overtime hours\n",
    "    hr_ot_dict = {'date': date, 'pperiod': pperiod, 'hours':parsed_list[0], 'ot':parsed_list[1] }\n",
    "\n",
    "    # Return the dictionary\n",
    "    return hr_ot_dict"
   ]
  },
  {
   "cell_type": "code",
   "execution_count": 16,
   "id": "da6f8112",
   "metadata": {},
   "outputs": [],
   "source": [
    "results = list(map(read_paystub,pdf_list))"
   ]
  },
  {
   "cell_type": "code",
   "execution_count": 17,
   "id": "45b71f2e",
   "metadata": {},
   "outputs": [],
   "source": [
    "df = pd.DataFrame(results)\n",
    "df['date'] = pd.to_datetime(df['date'])\n",
    "df = df.sort_values(by='date')"
   ]
  },
  {
   "cell_type": "code",
   "execution_count": 18,
   "id": "6929552a",
   "metadata": {},
   "outputs": [],
   "source": [
    "def mask_year(year):\n",
    "    mask = df['date'].dt.year == int(year)\n",
    "    include = df[mask]\n",
    "    exclude = df[~mask]\n",
    "    return include"
   ]
  },
  {
   "cell_type": "code",
   "execution_count": 19,
   "id": "ccee6c6c",
   "metadata": {},
   "outputs": [],
   "source": [
    "def mask_month(month):\n",
    "    mask = df['date'].dt.month == month\n",
    "    include = df[mask]\n",
    "    exclude = df[~mask]\n",
    "    return include"
   ]
  },
  {
   "cell_type": "code",
   "execution_count": 20,
   "id": "8c9f433f",
   "metadata": {},
   "outputs": [],
   "source": [
    "# My hourly rate multiply by time and a half(OT rate)\n",
    "\n",
    "# Hourly Rate\n",
    "hourly17 = 20.67\n",
    "hourly18 = 22.41\n",
    "hourly19 = 23.0823\n",
    "hourly20 = 23.54\n",
    "hourly21 = 24.2462\n",
    "\n",
    "# OT Rate\n",
    "rate17 = hourly17 * 1.5\n",
    "rate18 = hourly18  * 1.5\n",
    "rate19 = hourly19  * 1.5\n",
    "rate20 = hourly20  * 1.5\n",
    "rate21 = hourly21  * 1.5        "
   ]
  },
  {
   "cell_type": "code",
   "execution_count": 21,
   "id": "743fa8bc",
   "metadata": {},
   "outputs": [],
   "source": [
    "# Calculate overtime hours and rate \n",
    "def cal_ot(year,rate):\n",
    "    ot = round(mask_year(year).ot.sum(),2)        \n",
    "    return print(ot, 'hours', '$',\"{0:,.2f}\".format(round(ot * rate,2)))  "
   ]
  },
  {
   "cell_type": "code",
   "execution_count": 22,
   "id": "b9ac232f",
   "metadata": {},
   "outputs": [],
   "source": [
    "# Calculate regular hours and rate \n",
    "def cal_reg(year,rate):\n",
    "    reg = round(mask_year(year).hours.sum(),2)\n",
    "    return print(reg, 'hours', '$',\"{0:,.2f}\".format(round(reg * rate,2))) "
   ]
  },
  {
   "cell_type": "code",
   "execution_count": 23,
   "id": "28943103",
   "metadata": {},
   "outputs": [],
   "source": [
    "# select all rows with overtime\n",
    "select_ot = lambda year: mask_year(year)[mask_year(year).ot > 0]"
   ]
  },
  {
   "cell_type": "code",
   "execution_count": 24,
   "id": "a44e8fa4",
   "metadata": {},
   "outputs": [],
   "source": [
    "# visualize overtime per pay period\n",
    "def bar_ot(year):\n",
    "    sot = select_ot(year)\n",
    "    return sot.groupby('pperiod').ot.sum().plot(kind='barh', figsize=(14,12));"
   ]
  },
  {
   "cell_type": "markdown",
   "id": "20d418c1",
   "metadata": {},
   "source": [
    "## Regular Hours\n",
    "\n",
    "### Started on September 2017"
   ]
  },
  {
   "cell_type": "code",
   "execution_count": 27,
   "id": "e8d00d50",
   "metadata": {},
   "outputs": [
    {
     "name": "stdout",
     "output_type": "stream",
     "text": [
      "531.0 hours $ 10,975.77\n"
     ]
    }
   ],
   "source": [
    "cal_reg(2017,hourly17) "
   ]
  },
  {
   "cell_type": "markdown",
   "id": "33e42a1c",
   "metadata": {},
   "source": [
    "### Full Year 2018"
   ]
  },
  {
   "cell_type": "code",
   "execution_count": 28,
   "id": "e486f0ac",
   "metadata": {},
   "outputs": [
    {
     "name": "stdout",
     "output_type": "stream",
     "text": [
      "1944.25 hours $ 43,570.64\n"
     ]
    }
   ],
   "source": [
    "cal_reg(2018,hourly18) "
   ]
  },
  {
   "cell_type": "markdown",
   "id": "8f4bbbb0",
   "metadata": {},
   "source": [
    "### Full Year 2019"
   ]
  },
  {
   "cell_type": "code",
   "execution_count": 29,
   "id": "2c7c3e6f",
   "metadata": {},
   "outputs": [
    {
     "name": "stdout",
     "output_type": "stream",
     "text": [
      "1873.75 hours $ 43,250.46\n"
     ]
    }
   ],
   "source": [
    "cal_reg(2019,hourly19) "
   ]
  },
  {
   "cell_type": "markdown",
   "id": "a977d305",
   "metadata": {},
   "source": [
    "### Partial Year 2020"
   ]
  },
  {
   "cell_type": "code",
   "execution_count": 30,
   "id": "a54cab0f",
   "metadata": {},
   "outputs": [
    {
     "name": "stdout",
     "output_type": "stream",
     "text": [
      "1198.75 hours $ 28,218.58\n"
     ]
    }
   ],
   "source": [
    "cal_reg(2020,hourly20) "
   ]
  },
  {
   "cell_type": "markdown",
   "id": "95b39ba4",
   "metadata": {},
   "source": [
    "### Partial Year 2021"
   ]
  },
  {
   "cell_type": "code",
   "execution_count": 31,
   "id": "a7e0a8cf",
   "metadata": {},
   "outputs": [
    {
     "name": "stdout",
     "output_type": "stream",
     "text": [
      "850.0 hours $ 20,609.27\n"
     ]
    }
   ],
   "source": [
    "cal_reg(2021,hourly21) "
   ]
  },
  {
   "cell_type": "markdown",
   "id": "86276c57",
   "metadata": {},
   "source": [
    "## Overtime Hours\n",
    "\n",
    "### Started on September 2017"
   ]
  },
  {
   "cell_type": "code",
   "execution_count": 32,
   "id": "f96d2b27",
   "metadata": {},
   "outputs": [
    {
     "name": "stdout",
     "output_type": "stream",
     "text": [
      "110.85 hours $ 3,436.90\n"
     ]
    }
   ],
   "source": [
    "cal_ot(2017,rate17) "
   ]
  },
  {
   "cell_type": "markdown",
   "id": "e9e13864",
   "metadata": {},
   "source": [
    "### Full Year 2018"
   ]
  },
  {
   "cell_type": "code",
   "execution_count": 33,
   "id": "1b6c8d2f",
   "metadata": {},
   "outputs": [
    {
     "name": "stdout",
     "output_type": "stream",
     "text": [
      "321.55 hours $ 10,808.90\n"
     ]
    }
   ],
   "source": [
    "cal_ot(2018,rate18)"
   ]
  },
  {
   "cell_type": "markdown",
   "id": "918b0131",
   "metadata": {},
   "source": [
    "### Full Year 2019"
   ]
  },
  {
   "cell_type": "code",
   "execution_count": 34,
   "id": "f5af7f7c",
   "metadata": {},
   "outputs": [
    {
     "name": "stdout",
     "output_type": "stream",
     "text": [
      "173.9 hours $ 6,021.02\n"
     ]
    }
   ],
   "source": [
    "cal_ot(2019,rate19)"
   ]
  },
  {
   "cell_type": "markdown",
   "id": "7c1dc873",
   "metadata": {},
   "source": [
    "### Partial Year 2020"
   ]
  },
  {
   "cell_type": "code",
   "execution_count": 35,
   "id": "76a0ced7",
   "metadata": {},
   "outputs": [
    {
     "name": "stdout",
     "output_type": "stream",
     "text": [
      "21.0 hours $ 741.51\n"
     ]
    }
   ],
   "source": [
    "cal_ot(2020,rate20)"
   ]
  },
  {
   "cell_type": "markdown",
   "id": "30fc9fff",
   "metadata": {},
   "source": [
    "### Partial Year 2021"
   ]
  },
  {
   "cell_type": "code",
   "execution_count": 36,
   "id": "d40eb708",
   "metadata": {},
   "outputs": [
    {
     "name": "stdout",
     "output_type": "stream",
     "text": [
      "35.25 hours $ 1,282.02\n"
     ]
    }
   ],
   "source": [
    "cal_ot(2021,rate21)"
   ]
  },
  {
   "cell_type": "markdown",
   "id": "a4e86fe2",
   "metadata": {},
   "source": [
    "### Average Overtime per Month"
   ]
  },
  {
   "cell_type": "code",
   "execution_count": 37,
   "id": "b7addc74",
   "metadata": {},
   "outputs": [],
   "source": [
    "df17 = mask_year(2017)\n",
    "ot_17 = df17.groupby(df17['date'].dt.month).ot.mean()\n",
    "# ot_17"
   ]
  },
  {
   "cell_type": "code",
   "execution_count": 38,
   "id": "7c2cf3fe",
   "metadata": {},
   "outputs": [],
   "source": [
    "df18 = mask_year(2018)\n",
    "ot_18 = df18.groupby(df18['date'].dt.month).ot.mean()\n",
    "# ot_18"
   ]
  },
  {
   "cell_type": "code",
   "execution_count": 39,
   "id": "f4fdee12",
   "metadata": {},
   "outputs": [],
   "source": [
    "ot_17 = ot_17.to_frame()\n",
    "ot_18 = ot_18.to_frame()"
   ]
  },
  {
   "cell_type": "code",
   "execution_count": 40,
   "id": "53f0b517",
   "metadata": {},
   "outputs": [],
   "source": [
    "combined1 = ot_17.merge(ot_18, on='date', how='outer')\n",
    "combined1.columns = ['2017', '2018']"
   ]
  },
  {
   "cell_type": "code",
   "execution_count": 41,
   "id": "47d634e3",
   "metadata": {},
   "outputs": [
    {
     "data": {
      "image/png": "[encoded data removed]",
      "text/plain": [
       "<Figure size 432x288 with 1 Axes>"
      ]
     },
     "metadata": {
      "needs_background": "light"
     },
     "output_type": "display_data"
    }
   ],
   "source": [
    "combined1.sort_index().plot(kind='bar', rot=0);"
   ]
  },
  {
   "cell_type": "code",
   "execution_count": 42,
   "id": "87302d0c",
   "metadata": {},
   "outputs": [],
   "source": [
    "df19 = mask_year(2019)\n",
    "ot_19 = df19.groupby(df19['date'].dt.month).ot.mean()\n",
    "# ot_19"
   ]
  },
  {
   "cell_type": "code",
   "execution_count": 43,
   "id": "87d1c93b",
   "metadata": {},
   "outputs": [],
   "source": [
    "df20 = mask_year(2020)\n",
    "ot_20 = df20.groupby(df20['date'].dt.month).ot.mean()\n",
    "# ot_20"
   ]
  },
  {
   "cell_type": "code",
   "execution_count": 44,
   "id": "a8e5024e",
   "metadata": {},
   "outputs": [],
   "source": [
    "df21 = mask_year(2021)\n",
    "ot_21 = df21.groupby(df21['date'].dt.month).ot.mean()\n",
    "# ot_21"
   ]
  },
  {
   "cell_type": "code",
   "execution_count": 45,
   "id": "fa8eb9ce",
   "metadata": {},
   "outputs": [],
   "source": [
    "ot_19 = ot_19.to_frame()\n",
    "ot_20 = ot_20.to_frame()"
   ]
  },
  {
   "cell_type": "code",
   "execution_count": 46,
   "id": "03df6d1d",
   "metadata": {},
   "outputs": [],
   "source": [
    "combined2 = ot_19.merge(ot_20, on='date', how='outer')\n",
    "combined2.columns = ['2019', '2020']"
   ]
  },
  {
   "cell_type": "code",
   "execution_count": 47,
   "id": "69639c89",
   "metadata": {},
   "outputs": [],
   "source": [
    "combined2 = combined2.sort_index()"
   ]
  },
  {
   "cell_type": "code",
   "execution_count": 48,
   "id": "e615aa4f",
   "metadata": {},
   "outputs": [
    {
     "data": {
      "image/png": "[encoded data removed]",
      "text/plain": [
       "<Figure size 432x288 with 1 Axes>"
      ]
     },
     "metadata": {
      "needs_background": "light"
     },
     "output_type": "display_data"
    }
   ],
   "source": [
    "combined2.plot(kind='bar', rot=0);"
   ]
  },
  {
   "cell_type": "code",
   "execution_count": 49,
   "id": "4493fe2f",
   "metadata": {},
   "outputs": [],
   "source": [
    "ot_21 = ot_21.to_frame()"
   ]
  },
  {
   "cell_type": "code",
   "execution_count": 50,
   "id": "9dc33df6",
   "metadata": {},
   "outputs": [],
   "source": [
    "ot_21.columns = ['2021']"
   ]
  },
  {
   "cell_type": "code",
   "execution_count": 51,
   "id": "df59acd6",
   "metadata": {},
   "outputs": [],
   "source": [
    "combined3 = combined1.merge(combined2, on='date', how='outer')"
   ]
  },
  {
   "cell_type": "code",
   "execution_count": 52,
   "id": "a201f78e",
   "metadata": {},
   "outputs": [],
   "source": [
    "combined4 = combined3.merge(ot_21, on='date', how='outer')"
   ]
  },
  {
   "cell_type": "code",
   "execution_count": 53,
   "id": "cc6a29c0",
   "metadata": {},
   "outputs": [
    {
     "data": {
      "text/html": [
       "<div>\n",
       "<style scoped>\n",
       "    .dataframe tbody tr th:only-of-type {\n",
       "        vertical-align: middle;\n",
       "    }\n",
       "\n",
       "    .dataframe tbody tr th {\n",
       "        vertical-align: top;\n",
       "    }\n",
       "\n",
       "    .dataframe thead th {\n",
       "        text-align: right;\n",
       "    }\n",
       "</style>\n",
       "<table border=\"1\" class=\"dataframe\">\n",
       "  <thead>\n",
       "    <tr style=\"text-align: right;\">\n",
       "      <th></th>\n",
       "      <th>2017</th>\n",
       "      <th>2018</th>\n",
       "      <th>2019</th>\n",
       "      <th>2020</th>\n",
       "      <th>2021</th>\n",
       "    </tr>\n",
       "    <tr>\n",
       "      <th>date</th>\n",
       "      <th></th>\n",
       "      <th></th>\n",
       "      <th></th>\n",
       "      <th></th>\n",
       "      <th></th>\n",
       "    </tr>\n",
       "  </thead>\n",
       "  <tbody>\n",
       "    <tr>\n",
       "      <th>1</th>\n",
       "      <td>NaN</td>\n",
       "      <td>3.8750</td>\n",
       "      <td>0.5000</td>\n",
       "      <td>0.2000</td>\n",
       "      <td>0.000000</td>\n",
       "    </tr>\n",
       "    <tr>\n",
       "      <th>2</th>\n",
       "      <td>NaN</td>\n",
       "      <td>3.0000</td>\n",
       "      <td>2.9375</td>\n",
       "      <td>3.4375</td>\n",
       "      <td>0.000000</td>\n",
       "    </tr>\n",
       "    <tr>\n",
       "      <th>3</th>\n",
       "      <td>NaN</td>\n",
       "      <td>7.8900</td>\n",
       "      <td>1.2500</td>\n",
       "      <td>1.5000</td>\n",
       "      <td>0.000000</td>\n",
       "    </tr>\n",
       "    <tr>\n",
       "      <th>4</th>\n",
       "      <td>NaN</td>\n",
       "      <td>9.5000</td>\n",
       "      <td>4.4375</td>\n",
       "      <td>0.0000</td>\n",
       "      <td>0.400000</td>\n",
       "    </tr>\n",
       "    <tr>\n",
       "      <th>5</th>\n",
       "      <td>NaN</td>\n",
       "      <td>8.8400</td>\n",
       "      <td>0.9500</td>\n",
       "      <td>NaN</td>\n",
       "      <td>4.625000</td>\n",
       "    </tr>\n",
       "    <tr>\n",
       "      <th>6</th>\n",
       "      <td>NaN</td>\n",
       "      <td>9.6000</td>\n",
       "      <td>5.0000</td>\n",
       "      <td>NaN</td>\n",
       "      <td>4.916667</td>\n",
       "    </tr>\n",
       "    <tr>\n",
       "      <th>7</th>\n",
       "      <td>NaN</td>\n",
       "      <td>4.3125</td>\n",
       "      <td>6.1250</td>\n",
       "      <td>NaN</td>\n",
       "      <td>NaN</td>\n",
       "    </tr>\n",
       "    <tr>\n",
       "      <th>8</th>\n",
       "      <td>NaN</td>\n",
       "      <td>6.8300</td>\n",
       "      <td>8.1500</td>\n",
       "      <td>0.0000</td>\n",
       "      <td>NaN</td>\n",
       "    </tr>\n",
       "    <tr>\n",
       "      <th>9</th>\n",
       "      <td>0.5000</td>\n",
       "      <td>3.3750</td>\n",
       "      <td>3.8750</td>\n",
       "      <td>0.0000</td>\n",
       "      <td>NaN</td>\n",
       "    </tr>\n",
       "    <tr>\n",
       "      <th>10</th>\n",
       "      <td>9.6125</td>\n",
       "      <td>4.1250</td>\n",
       "      <td>4.1400</td>\n",
       "      <td>0.0500</td>\n",
       "      <td>NaN</td>\n",
       "    </tr>\n",
       "    <tr>\n",
       "      <th>11</th>\n",
       "      <td>8.9400</td>\n",
       "      <td>5.7800</td>\n",
       "      <td>2.6750</td>\n",
       "      <td>0.0000</td>\n",
       "      <td>NaN</td>\n",
       "    </tr>\n",
       "    <tr>\n",
       "      <th>12</th>\n",
       "      <td>6.8000</td>\n",
       "      <td>5.9250</td>\n",
       "      <td>0.0000</td>\n",
       "      <td>0.0000</td>\n",
       "      <td>NaN</td>\n",
       "    </tr>\n",
       "  </tbody>\n",
       "</table>\n",
       "</div>"
      ],
      "text/plain": [
       "        2017    2018    2019    2020      2021\n",
       "date                                          \n",
       "1        NaN  3.8750  0.5000  0.2000  0.000000\n",
       "2        NaN  3.0000  2.9375  3.4375  0.000000\n",
       "3        NaN  7.8900  1.2500  1.5000  0.000000\n",
       "4        NaN  9.5000  4.4375  0.0000  0.400000\n",
       "5        NaN  8.8400  0.9500     NaN  4.625000\n",
       "6        NaN  9.6000  5.0000     NaN  4.916667\n",
       "7        NaN  4.3125  6.1250     NaN       NaN\n",
       "8        NaN  6.8300  8.1500  0.0000       NaN\n",
       "9     0.5000  3.3750  3.8750  0.0000       NaN\n",
       "10    9.6125  4.1250  4.1400  0.0500       NaN\n",
       "11    8.9400  5.7800  2.6750  0.0000       NaN\n",
       "12    6.8000  5.9250  0.0000  0.0000       NaN"
      ]
     },
     "execution_count": 53,
     "metadata": {},
     "output_type": "execute_result"
    }
   ],
   "source": [
    "combined4.sort_index()"
   ]
  },
  {
   "cell_type": "code",
   "execution_count": 54,
   "id": "03b5fa34",
   "metadata": {},
   "outputs": [
    {
     "data": {
      "image/png": "[encoded data removed]",
      "text/plain": [
       "<Figure size 720x432 with 1 Axes>"
      ]
     },
     "metadata": {
      "needs_background": "light"
     },
     "output_type": "display_data"
    }
   ],
   "source": [
    "ax = combined4.sort_index().plot(kind='bar', rot=0, figsize=(10,6))\n",
    "ax.set_title('Average Overtime from 2017 to 2021');"
   ]
  }
 ],
 "metadata": {
  "kernelspec": {
   "display_name": "Python 3",
   "language": "python",
   "name": "python3"
  },
  "language_info": {
   "codemirror_mode": {
    "name": "ipython",
    "version": 3
   },
   "file_extension": ".py",
   "mimetype": "text/x-python",
   "name": "python",
   "nbconvert_exporter": "python",
   "pygments_lexer": "ipython3",
   "version": "3.7.10"
  }
 },
 "nbformat": 4,
 "nbformat_minor": 5
}
