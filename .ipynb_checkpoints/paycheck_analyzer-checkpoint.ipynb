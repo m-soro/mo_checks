{
 "cells": [
  {
   "cell_type": "code",
   "execution_count": 821,
   "id": "410c1b51",
   "metadata": {},
   "outputs": [],
   "source": [
    "# Import all modules\n",
    "import PyPDF2\n",
    "import pandas as pd\n",
    "import os\n",
    "from re import search"
   ]
  },
  {
   "cell_type": "code",
   "execution_count": 822,
   "id": "3b1c6da2",
   "metadata": {},
   "outputs": [],
   "source": [
    "# Returns a list of whatever is inside the directory(in local machine) \n",
    "pdf_list = os.listdir('.')"
   ]
  },
  {
   "cell_type": "code",
   "execution_count": 823,
   "id": "a8547ba9",
   "metadata": {},
   "outputs": [],
   "source": [
    "# Ignore list, since I had this notebook in my local machine, stored in the same directory\n",
    "remove_list = ['.DS_Store','.ipynb_checkpoints','paycheck_analyzer.ipynb','paycheck_analyzer_final.ipynb']"
   ]
  },
  {
   "cell_type": "code",
   "execution_count": 824,
   "id": "ae202f43",
   "metadata": {},
   "outputs": [],
   "source": [
    "# Removes items in the ignore list\n",
    "pdf_list = [i for i in pdf_list if i not in remove_list]"
   ]
  },
  {
   "cell_type": "code",
   "execution_count": 825,
   "id": "7eee4600",
   "metadata": {},
   "outputs": [],
   "source": [
    "def read_paystub(stub):\n",
    "    '''Function to extract regular hours, overtime hours, check date and pay period \n",
    "       input:  Mandarin Oriental Paystub in PDF format\n",
    "       output: Python Dictionary of :\n",
    "                hours, overtime, check date and pay period worked '''\n",
    "\n",
    "    # Read the first page of paystub\n",
    "    file = PyPDF2.PdfFileReader(stub) # feed the paycheck to PdfFileReader\n",
    "    page1 = file.getPage(0).extractText() # Needed info is found in 1st page\n",
    "    \n",
    "    # Extract the check date\n",
    "    date = page1[page1.find('Basis'):page1.find(' to')].strip()  \n",
    "    date = date[11:-5]\n",
    "    \n",
    "    # Extract the pay period\n",
    "    pperiod = page1[page1.find('Basis'):page1.find(' XXXX')].strip()\n",
    "    pperiod = pperiod[21:38]\n",
    "    \n",
    "    # Extract the regular hours, overtime hours, vacation, sick, personal, retro \n",
    "    parsed = page1[page1.find('REGULAR'):page1.find('Total Earnings')].strip()\n",
    "    \n",
    "    # Split up the resulting extracted string to a list\n",
    "    parsed_list = parsed.split(' ')\n",
    "    \n",
    "    def sick_holiday_hrs(parsed_list):\n",
    "        '''A function that assigns 0 to the second item in the list, \n",
    "        if no overtime worked. Cleans up the first item in the list as regular hours.\n",
    "        \n",
    "        input: list of extracted paycheck info\n",
    "        output: list of regular and overtime hours'''\n",
    "\n",
    "        parsed_list[0] = parsed_list[0][7:12]\n",
    "        parsed_list[1] = str(0)\n",
    "        parsed_list = parsed_list[0:1]\n",
    "        return parsed_list\n",
    "\n",
    "    if search(\"HOLIDAY\", parsed_list[1]):\n",
    "        sick_holiday_hrs(parsed_list)\n",
    "    elif search('SICK', parsed_list[1]):\n",
    "        sick_holiday_hrs(parsed_list)\n",
    "    elif search('VACATION', parsed_list[1]):\n",
    "        sick_holiday_hrs(parsed_list)\n",
    "    elif search('PERSONAL', parsed_list[1]):\n",
    "        sick_holiday_hrs(parsed_list)\n",
    "    elif search('RETRO', parsed_list[1]):\n",
    "        sick_holiday_hrs(parsed_list)      \n",
    "    else:\n",
    "        parsed_list[0] = parsed_list[0][7:12]\n",
    "        parsed_list[1] = parsed_list[1][8:12]\n",
    "        parsed_list = parsed_list[0:2]\n",
    "\n",
    "    # If the list contains \",\" a comma, this means that NO OT, then it will assign 0.\n",
    "    # Restricts the list into two elements only.\n",
    "    parsed_list = [ 0  if \",\" in x else x for x in parsed_list][:2] \n",
    "    \n",
    "    # Convert the list to float\n",
    "    parsed_list = list(map(float,parsed_list))\n",
    "    \n",
    "    # Additional check. I do not usually work 20 hours overtime, so for any reason \n",
    "    # overtime is more than 20, there must be a parsing error, \n",
    "    # then I'll reset the OT to 0\n",
    "    if parsed_list[1] > 20:\n",
    "        parsed_list[1] = 0\n",
    "    \n",
    "    # Construct the dictionary of date, pay period, hours and overtime hours\n",
    "    hr_ot_dict = {'date': date, 'pperiod': pperiod, 'hours':parsed_list[0], 'ot':parsed_list[1] }\n",
    "    \n",
    "    # Return the dictionary\n",
    "    return hr_ot_dict"
   ]
  },
  {
   "cell_type": "code",
   "execution_count": 827,
   "id": "ac047249",
   "metadata": {},
   "outputs": [],
   "source": [
    "results = list(map(read_paystub,pdf_list))"
   ]
  },
  {
   "cell_type": "code",
   "execution_count": 760,
   "id": "45b71f2e",
   "metadata": {},
   "outputs": [],
   "source": [
    "# results"
   ]
  },
  {
   "cell_type": "code",
   "execution_count": 828,
   "id": "1777b976",
   "metadata": {},
   "outputs": [],
   "source": [
    "df = pd.DataFrame(results)"
   ]
  },
  {
   "cell_type": "code",
   "execution_count": 829,
   "id": "3d566de9",
   "metadata": {},
   "outputs": [],
   "source": [
    "df['date'] = pd.to_datetime(df['date'])"
   ]
  },
  {
   "cell_type": "code",
   "execution_count": 830,
   "id": "ed560434",
   "metadata": {},
   "outputs": [],
   "source": [
    "df = df.sort_values(by='date')"
   ]
  },
  {
   "cell_type": "code",
   "execution_count": 831,
   "id": "6929552a",
   "metadata": {},
   "outputs": [],
   "source": [
    "def mask_year(year):\n",
    "    mask = df['date'].dt.year == int(year)\n",
    "    include = df[mask]\n",
    "    exclude = df[~mask]\n",
    "    return include\n",
    "\n",
    "def mask_month(month):\n",
    "    mask = df['date'].dt.month == month\n",
    "    include = df[mask]\n",
    "    exclude = df[~mask]\n",
    "    return include"
   ]
  },
  {
   "cell_type": "code",
   "execution_count": 832,
   "id": "8c9f433f",
   "metadata": {},
   "outputs": [],
   "source": [
    "# calculate overtime hours and rate \n",
    "rate17 = 20.67 * 1.5\n",
    "rate18 = 22.41  * 1.5\n",
    "rate19 = 23.0823  * 1.5\n",
    "rate20 = 23.54  * 1.5\n",
    "rate21 = 24.2462  * 1.5\n",
    "\n",
    "def cal_ot(year,rate):\n",
    "    ot = round(mask_year(year).ot.sum(),2)        \n",
    "    return print(ot, 'hours', '$',\"{0:,.2f}\".format(round(ot * rate,2)))       "
   ]
  },
  {
   "cell_type": "code",
   "execution_count": 833,
   "id": "28943103",
   "metadata": {},
   "outputs": [],
   "source": [
    "# select all rows with overtime\n",
    "select_ot = lambda year: mask_year(year)[mask_year(year).ot > 0]"
   ]
  },
  {
   "cell_type": "code",
   "execution_count": 834,
   "id": "a44e8fa4",
   "metadata": {},
   "outputs": [],
   "source": [
    "# visualize overtime per pay period\n",
    "def bar_ot(year):\n",
    "    sot = select_ot(year)\n",
    "    return sot.groupby('pperiod').ot.sum().plot(kind='barh', figsize=(14,12));"
   ]
  },
  {
   "cell_type": "markdown",
   "id": "86276c57",
   "metadata": {},
   "source": [
    "## Overtime Hours\n",
    "\n",
    "### Started on September 2017"
   ]
  },
  {
   "cell_type": "code",
   "execution_count": 835,
   "id": "e8d00d50",
   "metadata": {},
   "outputs": [
    {
     "name": "stdout",
     "output_type": "stream",
     "text": [
      "110.85 hours $ 3,436.90\n"
     ]
    }
   ],
   "source": [
    "cal_ot(2017,rate17) "
   ]
  },
  {
   "cell_type": "markdown",
   "id": "e9e13864",
   "metadata": {},
   "source": [
    "### Full Year 2018"
   ]
  },
  {
   "cell_type": "code",
   "execution_count": 836,
   "id": "1b6c8d2f",
   "metadata": {},
   "outputs": [
    {
     "name": "stdout",
     "output_type": "stream",
     "text": [
      "321.55 hours $ 10,808.90\n"
     ]
    }
   ],
   "source": [
    "cal_ot(2018,rate18)"
   ]
  },
  {
   "cell_type": "markdown",
   "id": "918b0131",
   "metadata": {},
   "source": [
    "### Full Year 2019"
   ]
  },
  {
   "cell_type": "code",
   "execution_count": 837,
   "id": "f5af7f7c",
   "metadata": {},
   "outputs": [
    {
     "name": "stdout",
     "output_type": "stream",
     "text": [
      "173.9 hours $ 6,021.02\n"
     ]
    }
   ],
   "source": [
    "cal_ot(2019,rate19)"
   ]
  },
  {
   "cell_type": "markdown",
   "id": "7c1dc873",
   "metadata": {},
   "source": [
    "### Partial Year 2020"
   ]
  },
  {
   "cell_type": "code",
   "execution_count": 838,
   "id": "76a0ced7",
   "metadata": {},
   "outputs": [
    {
     "name": "stdout",
     "output_type": "stream",
     "text": [
      "21.0 hours $ 741.51\n"
     ]
    }
   ],
   "source": [
    "cal_ot(2020,rate20)"
   ]
  },
  {
   "cell_type": "markdown",
   "id": "30fc9fff",
   "metadata": {},
   "source": [
    "### Partial Year 2021"
   ]
  },
  {
   "cell_type": "code",
   "execution_count": 839,
   "id": "d40eb708",
   "metadata": {},
   "outputs": [
    {
     "name": "stdout",
     "output_type": "stream",
     "text": [
      "30.25 hours $ 1,100.17\n"
     ]
    }
   ],
   "source": [
    "cal_ot(2021,rate21)"
   ]
  },
  {
   "cell_type": "markdown",
   "id": "a4e86fe2",
   "metadata": {},
   "source": [
    "### Average Overtime per Month"
   ]
  },
  {
   "cell_type": "code",
   "execution_count": 840,
   "id": "b7addc74",
   "metadata": {},
   "outputs": [
    {
     "data": {
      "text/plain": [
       "date\n",
       "9     0.5000\n",
       "10    9.6125\n",
       "11    8.9400\n",
       "12    6.8000\n",
       "Name: ot, dtype: float64"
      ]
     },
     "execution_count": 840,
     "metadata": {},
     "output_type": "execute_result"
    }
   ],
   "source": [
    "df17 = mask_year(2017)\n",
    "ot_17 = df17.groupby(df17['date'].dt.month).ot.mean()\n",
    "ot_17"
   ]
  },
  {
   "cell_type": "code",
   "execution_count": 841,
   "id": "7c2cf3fe",
   "metadata": {},
   "outputs": [
    {
     "data": {
      "text/plain": [
       "date\n",
       "1     3.8750\n",
       "2     3.0000\n",
       "3     7.8900\n",
       "4     9.5000\n",
       "5     8.8400\n",
       "6     9.6000\n",
       "7     4.3125\n",
       "8     6.8300\n",
       "9     3.3750\n",
       "10    4.1250\n",
       "11    5.7800\n",
       "12    5.9250\n",
       "Name: ot, dtype: float64"
      ]
     },
     "execution_count": 841,
     "metadata": {},
     "output_type": "execute_result"
    }
   ],
   "source": [
    "df18 = mask_year(2018)\n",
    "ot_18 = df18.groupby(df18['date'].dt.month).ot.mean()\n",
    "ot_18"
   ]
  },
  {
   "cell_type": "code",
   "execution_count": 842,
   "id": "f4fdee12",
   "metadata": {},
   "outputs": [],
   "source": [
    "ot_17 = ot_17.to_frame()\n",
    "ot_18 = ot_18.to_frame()"
   ]
  },
  {
   "cell_type": "code",
   "execution_count": 851,
   "id": "53f0b517",
   "metadata": {},
   "outputs": [],
   "source": [
    "combined1 = ot_17.merge(ot_18, on='date', how='outer')\n",
    "combined1.columns = ['2017', '2018']"
   ]
  },
  {
   "cell_type": "code",
   "execution_count": 852,
   "id": "47d634e3",
   "metadata": {},
   "outputs": [
    {
     "data": {
      "image/png": "[encoded data removed]",
      "text/plain": [
       "<Figure size 432x288 with 1 Axes>"
      ]
     },
     "metadata": {
      "needs_background": "light"
     },
     "output_type": "display_data"
    }
   ],
   "source": [
    "combined1.sort_index().plot(kind='bar', rot=0);"
   ]
  },
  {
   "cell_type": "code",
   "execution_count": 853,
   "id": "87302d0c",
   "metadata": {},
   "outputs": [
    {
     "data": {
      "text/plain": [
       "date\n",
       "1     0.5000\n",
       "2     2.9375\n",
       "3     1.2500\n",
       "4     4.4375\n",
       "5     0.9500\n",
       "6     5.0000\n",
       "7     6.1250\n",
       "8     8.1500\n",
       "9     3.8750\n",
       "10    4.1400\n",
       "11    2.6750\n",
       "12    0.0000\n",
       "Name: ot, dtype: float64"
      ]
     },
     "execution_count": 853,
     "metadata": {},
     "output_type": "execute_result"
    }
   ],
   "source": [
    "df19 = mask_year(2019)\n",
    "ot_19 = df19.groupby(df19['date'].dt.month).ot.mean()\n",
    "ot_19"
   ]
  },
  {
   "cell_type": "code",
   "execution_count": 854,
   "id": "87d1c93b",
   "metadata": {},
   "outputs": [
    {
     "data": {
      "text/plain": [
       "date\n",
       "1     0.2000\n",
       "2     3.4375\n",
       "3     1.5000\n",
       "4     0.0000\n",
       "8     0.0000\n",
       "9     0.0000\n",
       "10    0.0500\n",
       "11    0.0000\n",
       "12    0.0000\n",
       "Name: ot, dtype: float64"
      ]
     },
     "execution_count": 854,
     "metadata": {},
     "output_type": "execute_result"
    }
   ],
   "source": [
    "df20 = mask_year(2020)\n",
    "ot_20 = df20.groupby(df20['date'].dt.month).ot.mean()\n",
    "ot_20"
   ]
  },
  {
   "cell_type": "code",
   "execution_count": 850,
   "id": "a8e5024e",
   "metadata": {},
   "outputs": [
    {
     "data": {
      "text/plain": [
       "date\n",
       "1    0.000\n",
       "2    0.000\n",
       "3    0.000\n",
       "4    0.400\n",
       "5    4.625\n",
       "6    4.875\n",
       "Name: ot, dtype: float64"
      ]
     },
     "execution_count": 850,
     "metadata": {},
     "output_type": "execute_result"
    }
   ],
   "source": [
    "df21 = mask_year(2021)\n",
    "ot_21 = df21.groupby(df21['date'].dt.month).ot.mean()\n",
    "ot_21"
   ]
  },
  {
   "cell_type": "code",
   "execution_count": 855,
   "id": "fa8eb9ce",
   "metadata": {},
   "outputs": [],
   "source": [
    "ot_19 = ot_19.to_frame()\n",
    "ot_20 = ot_20.to_frame()"
   ]
  },
  {
   "cell_type": "code",
   "execution_count": 856,
   "id": "03df6d1d",
   "metadata": {},
   "outputs": [],
   "source": [
    "combined2 = ot_19.merge(ot_20, on='date', how='outer')\n",
    "combined2.columns = ['2019', '2020']"
   ]
  },
  {
   "cell_type": "code",
   "execution_count": 864,
   "id": "69639c89",
   "metadata": {},
   "outputs": [],
   "source": [
    "combined2 = combined2.sort_index()"
   ]
  },
  {
   "cell_type": "code",
   "execution_count": 858,
   "id": "e615aa4f",
   "metadata": {},
   "outputs": [
    {
     "data": {
      "image/png": "[encoded data removed]",
      "text/plain": [
       "<Figure size 432x288 with 1 Axes>"
      ]
     },
     "metadata": {
      "needs_background": "light"
     },
     "output_type": "display_data"
    }
   ],
   "source": [
    "combined2.plot(kind='bar', rot=0);"
   ]
  },
  {
   "cell_type": "code",
   "execution_count": 859,
   "id": "df59acd6",
   "metadata": {},
   "outputs": [],
   "source": [
    "combined3 = combined1.merge(combined2, on='date', how='outer')"
   ]
  },
  {
   "cell_type": "code",
   "execution_count": 870,
   "id": "03b5fa34",
   "metadata": {},
   "outputs": [
    {
     "data": {
      "image/png": "[encoded data removed]",
      "text/plain": [
       "<Figure size 576x360 with 1 Axes>"
      ]
     },
     "metadata": {
      "needs_background": "light"
     },
     "output_type": "display_data"
    }
   ],
   "source": [
    "ax = combined3.sort_index().plot(kind='bar', rot=0, figsize=(8,5))\n",
    "ax.set_title('Overtime from 2017 to 2020');"
   ]
  }
 ],
 "metadata": {
  "kernelspec": {
   "display_name": "Python 3",
   "language": "python",
   "name": "python3"
  },
  "language_info": {
   "codemirror_mode": {
    "name": "ipython",
    "version": 3
   },
   "file_extension": ".py",
   "mimetype": "text/x-python",
   "name": "python",
   "nbconvert_exporter": "python",
   "pygments_lexer": "ipython3",
   "version": "3.7.10"
  }
 },
 "nbformat": 4,
 "nbformat_minor": 5
}
